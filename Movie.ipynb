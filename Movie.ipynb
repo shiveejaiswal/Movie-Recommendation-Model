{
 "cells": [
  {
   "cell_type": "markdown",
   "id": "2c1413b5",
   "metadata": {},
   "source": [
    "# Movie Recommendation System\n"
   ]
  },
  {
   "cell_type": "markdown",
   "id": "196c67b9",
   "metadata": {},
   "source": [
    "## Import Necessary Libraries and Load Datasets\n",
    "In this cell, we import the libraries we need for our project. \n",
    "- `pandas` is used for data manipulation and analysis.\n",
    "- `json` helps us work with JSON data.\n",
    "- `numpy` is used for numerical operations.\n",
    "- `TfidfVectorizer` from `sklearn` helps us convert text data into numerical format.\n",
    "\n",
    "We then load two datasets: one containing movie credits and another containing movie details. \n",
    "Finally, we display the first few rows of the credits dataset to see what it looks like."
   ]
  },
  {
   "cell_type": "code",
   "execution_count": null,
   "id": "b56a5000-e179-4e84-b27f-09dbf75b6878",
   "metadata": {},
   "outputs": [],
   "source": [
    "# Import necessary libraries and load datasets\n",
    "import pandas as pd\n",
    "import json\n",
    "import numpy as np\n",
    "from sklearn.feature_extraction.text import TfidfVectorizer\n",
    "credits = pd.read_csv(\"datasets/tmdb_5000_credits.csv\")\n",
    "movies = pd.read_csv(\"datasets/tmdb_5000_movies.csv\")\n",
    "credits.head()"
   ]
  },
  {
   "cell_type": "markdown",
   "id": "2015238a",
   "metadata": {},
   "source": [
    "## Print the Shapes of the Credits and Movies DataFrames\n",
    "Here, we print the dimensions (number of rows and columns) of the credits and movies datasets. \n",
    "This helps us understand how much data we are working with."
   ]
  },
  {
   "cell_type": "code",
   "execution_count": null,
   "id": "72abd366-c278-4612-8f26-972254ede4a2",
   "metadata": {},
   "outputs": [],
   "source": [
    "# Print the shapes of the credits and movies dataframes\n",
    "print(\"Credits:\", credits.shape)\n",
    "print(\"Movies Dataframe:\", movies.shape)"
   ]
  },
  {
   "cell_type": "markdown",
   "id": "3639e17b",
   "metadata": {},
   "source": [
    "## Merge Credits and Movies DataFrames on 'id' and Rename 'movie_id' to 'id'\n",
    "In this cell, we combine the credits and movies datasets into one. \n",
    "We rename the 'movie_id' column in the credits dataset to 'id' so that we can merge them based on this common column. \n",
    "After merging, we display the first few rows of the combined dataset to check the result."
   ]
  },
  {
   "cell_type": "code",
   "execution_count": null,
   "id": "52a059ed-cf15-407d-a7ce-5744e6629127",
   "metadata": {},
   "outputs": [],
   "source": [
    "# Merge credits and movies dataframes on 'id' and rename 'movie_id' to 'id'\n",
    "credits_column_renamed = credits.rename(index=str, columns={\"movie_id\": \"id\"})\n",
    "movies_merge = movies.merge(credits_column_renamed, on='id')\n",
    "print(movies_merge.head())"
   ]
  },
  {
   "cell_type": "markdown",
   "id": "1eb5df24",
   "metadata": {},
   "source": [
    "## Clean the Merged Data by Selecting Relevant Columns and Processing JSON Fields\n",
    "Here, we select only the columns we need from the merged dataset. \n",
    "We also process the 'cast', 'crew', and 'genres' columns, which are in JSON format, to convert them into Python lists. \n",
    "Finally, we save the cleaned data to a JSON file and display the first few rows of the cleaned dataset."
   ]
  },
  {
   "cell_type": "code",
   "execution_count": null,
   "id": "4df2257c-1999-4310-a754-965843b780e5",
   "metadata": {},
   "outputs": [],
   "source": [
    "# Clean the merged data by selecting relevant columns and processing JSON fields\n",
    "columns_to_select = ['id', 'original_title', 'overview', 'cast', 'crew', 'release_date', 'genres', 'vote_average', 'runtime', 'original_language']\n",
    "movies_cleaned = movies_merge[columns_to_select].copy()\n",
    "movies_cleaned['movie_id'] = movies_cleaned['id']\n",
    "movies_cleaned['cast'] = movies_cleaned['cast'].apply(lambda x: json.loads(x) if isinstance(x, str) else [])\n",
    "movies_cleaned['crew'] = movies_cleaned['crew'].apply(lambda x: json.loads(x) if isinstance(x, str) else [])\n",
    "movies_cleaned['genres'] = movies_cleaned['genres'].apply(lambda x: json.loads(x) if isinstance(x, str) else [])\n",
    "movies_cleaned.to_json('src/data/movies_cleaned.json', orient='records')\n",
    "print(\"Cleaned data saved to data folder\")\n",
    "print(movies_cleaned.head())"
   ]
  },
  {
   "cell_type": "markdown",
   "id": "0f05d8e4",
   "metadata": {},
   "source": [
    "## Load Dataset and Prepare TF-IDF Vectorizer\n",
    "In this cell, we load the cleaned movies dataset again. \n",
    "We check if the 'overview' column exists, as it is essential for our analysis. \n",
    "We fill any missing values in the 'overview' column with an empty string. \n",
    "Then, we set up a TF-IDF Vectorizer, which will help us convert the text in the 'overview' column into a numerical format that we can work with."
   ]
  },
  {
   "cell_type": "code",
   "execution_count": null,
   "id": "c6b5678b-5e44-4fa5-b529-8dd62f01ce5b",
   "metadata": {},
   "outputs": [],
   "source": [
    "# Load dataset and prepare TF-IDF Vectorizer\n",
    "movies_cleaned_df = pd.read_csv('datasets/tmdb_5000_movies.csv')\n",
    "\n",
    "if 'overview' not in movies_cleaned_df.columns:\n",
    "    raise ValueError(\"'overview' column not found in the dataset!\")\n",
    "\n",
    "movies_cleaned_df['overview'] = movies_cleaned_df['overview'].fillna('')\n",
    "tfv = TfidfVectorizer(min_df=3, max_features=None,\n",
    "                      strip_accents='unicode', analyzer='word',\n",
    "                      token_pattern=r'\\w{1,}', ngram_range=(1, 3),\n",
    "                      stop_words='english')\n",
    "\n",
    "tfv_matrix = tfv.fit_transform(movies_cleaned_df['overview'])\n",
    "print(tfv_matrix)\n",
    "print(tfv_matrix.shape)"
   ]
  },
  {
   "cell_type": "markdown",
   "id": "e82409ce",
   "metadata": {},
   "source": [
    "## Compute the Sigmoid Kernel for the TF-IDF Matrix and Save the Similarity Matrix\n",
    "Here, we calculate the similarity between movies based on their overviews using a method called the sigmoid kernel. \n",
    "This creates a similarity matrix that tells us how similar each movie is to every other movie. \n",
    "We then save this similarity matrix to a JSON file for later use."
   ]
  },
  {
   "cell_type": "code",
   "execution_count": null,
   "id": "2150a52b-5ac5-470a-bd59-bb61edadcc74",
   "metadata": {},
   "outputs": [],
   "source": [
    "# Compute the sigmoid kernel for the TF-IDF matrix and save the similarity matrix\n",
    "from sklearn.metrics.pairwise import sigmoid_kernel\n",
    "sig = sigmoid_kernel(tfv_matrix, tfv_matrix)\n",
    "with open('data/similarity_matrix.json', 'w') as f:\n",
    "    json.dump(sig.tolist(), f)\n",
    "print(\"Similarity matrix shape:\", sig.shape)\n",
    "print(\"Similarity matrix saved to data folder\")"
   ]
  },
  {
   "cell_type": "markdown",
   "id": "97250492",
   "metadata": {},
   "source": [
    "## Ensure Unique Movie Titles and Create a Mapping of Titles to Indices\n",
    "In this cell, we remove any duplicate movie titles from the cleaned dataset to ensure each title is unique. \n",
    "We create a mapping that links each movie title to its index in the dataset. \n",
    "This mapping will help us quickly find a movie's index when we want to get recommendations. \n",
    "Finally, we save this mapping to a JSON file."
   ]
  },
  {
   "cell_type": "code",
   "execution_count": null,
   "id": "846963ac-8f02-4a23-ad28-497623c65b06",
   "metadata": {},
   "outputs": [],
   "source": [
    "# Ensure unique movie titles and create a mapping of titles to indices\n",
    "movies_cleaned_unique = movies_cleaned.drop_duplicates(subset='original_title')\n",
    "indices = pd.Series(movies_cleaned_unique.index, index=movies_cleaned_unique['original_title']).drop_duplicates()\n",
    "indices.to_json('data/indices.json', orient='index')\n",
    "print(\"Indices mapping saved to data folder\")\n",
    "print(indices.head())"
   ]
  },
  {
   "cell_type": "markdown",
   "id": "c8126b23",
   "metadata": {},
   "source": [
    "## Define a Function to Give Movie Recommendations Based on Title\n",
    "Here, we define a function called `give_recomendations` that takes a movie title as input and returns a list of recommended movies. \n",
    "If the title is not found in our mapping, it will print a message. \n",
    "The function calculates the similarity scores for the input movie and returns the top 10 similar movies, excluding the input movie itself."
   ]
  },
  {
   "cell_type": "code",
   "execution_count": null,
   "id": "f143aec1-7f55-4417-9662-2b5d92d635f2",
   "metadata": {},
   "outputs": [],
   "source": [
    "# Define a function to give movie recommendations based on title\n",
    "def give_recomendations(title, sig=sig):\n",
    "    if title not in indices.index:\n",
    "        print(f\"Title '{title}' not found in indices.\")\n",
    "        return None\n",
    "    idx = indices[title]\n",
    "    sig_scores = list(enumerate(sig[idx]))\n",
    "    sig_scores = sorted(sig_scores, key=lambda x: x[1], reverse=True)\n",
    "    sig_scores = sig_scores[1:11]  # Skip the first one as it is the movie itself\n",
    "    movie_indices = [i[0] for i in sig_scores]\n",
    "    return movies_cleaned.iloc[movie_indices]"
   ]
  },
  {
   "cell_type": "markdown",
   "id": "bb8cfd1b",
   "metadata": {},
   "source": [
    "## Finally Get Recommendations for a Specific Movie and Print Relevant Details\n",
    "In this cell, we use the function we defined earlier to get recommendations for the movie 'Interstellar'. \n",
    "We then print out the original title, overview, cast, and crew of the recommended movies to see the details."
   ]
  },
  {
   "cell_type": "code",
   "execution_count": null,
   "id": "dea6b478-4385-439c-8f7e-e44796500898",
   "metadata": {},
   "outputs": [],
   "source": [
    "# Get recommendations for a specific movie and print relevant details\n",
    "recommended_movies = give_recomendations('Interstellar') # Input your movie title here\n",
    "print(recommended_movies[['original_title', 'overview', 'cast', 'crew']])"
   ]
  },
  {
   "cell_type": "markdown",
   "id": "5edd1c06",
   "metadata": {},
   "source": [
    "# Conclusion: How the Movie Recommendation Model Works\n",
    "\n",
    "In this notebook, we have built a movie recommendation system that suggests similar movies based on their overviews. Here's a brief overview of how the model works:\n",
    "\n",
    "1. **Data Preparation**: We start by importing necessary libraries and loading two datasets: one containing movie credits and another with movie details. We then clean and process this data to ensure it's in a usable format.\n",
    "\n",
    "2. **Feature Extraction**: The key feature for our recommendations is the 'overview' of each movie. We use a technique called TF-IDF (Term Frequency-Inverse Document Frequency) to convert the text in the 'overview' column into numerical vectors. This allows us to quantify the content of each movie.\n",
    "\n",
    "3. **Similarity Calculation**: Using the TF-IDF matrix, we calculate the similarity between movies based on their overviews. We employ a method called the sigmoid kernel, which helps us determine how closely related two movies are based on their textual descriptions.\n",
    "\n",
    "4. **Recommendation Generation**: When a user inputs a movie title, our model checks for its index in the dataset. It then retrieves the similarity scores for that movie and sorts them to find the top 10 most similar movies, excluding the input movie itself.\n",
    "\n",
    "5. **Output**: Finally, the model returns a list of recommended movies along with their details, such as the original title, overview, cast, and crew.\n",
    "\n",
    "By following these steps, our recommendation system effectively identifies and suggests movies that are similar to the one the user is interested in, enhancing the movie-watching experience."
   ]
  }
 ],
 "metadata": {
  "kernelspec": {
   "display_name": "Python 3 (ipykernel)",
   "language": "python",
   "name": "python3"
  },
  "language_info": {
   "codemirror_mode": {
    "name": "ipython",
    "version": 3
   },
   "file_extension": ".py",
   "mimetype": "text/x-python",
   "name": "python",
   "nbconvert_exporter": "python",
   "pygments_lexer": "ipython3",
   "version": "3.10.0"
  }
 },
 "nbformat": 4,
 "nbformat_minor": 5
}
