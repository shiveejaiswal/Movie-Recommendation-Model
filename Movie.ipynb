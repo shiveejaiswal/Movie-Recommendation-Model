{
 "cells": [
  {
   "cell_type": "markdown",
   "id": "2c1413b5",
   "metadata": {},
   "source": [
    "# Movie Recommendation System\n"
   ]
  },
  {
   "cell_type": "markdown",
   "id": "196c67b9",
   "metadata": {},
   "source": [
    "## Import Necessary Libraries and Load Datasets\n",
    "In this cell, we import the libraries we need for our project. \n",
    "- `pandas` is used for data manipulation and analysis.\n",
    "- `json` helps us work with JSON data.\n",
    "- `numpy` is used for numerical operations.\n",
    "- `TfidfVectorizer` from `sklearn` helps us convert text data into numerical format.\n",
    "\n",
    "We then load two datasets: one containing movie credits and another containing movie details. \n",
    "Finally, we display the first few rows of the credits dataset to see what it looks like."
   ]
  },
  {
   "cell_type": "code",
   "execution_count": 6,
   "id": "b56a5000-e179-4e84-b27f-09dbf75b6878",
   "metadata": {},
   "outputs": [
    {
     "data": {
      "text/html": [
       "<div>\n",
       "<style scoped>\n",
       "    .dataframe tbody tr th:only-of-type {\n",
       "        vertical-align: middle;\n",
       "    }\n",
       "\n",
       "    .dataframe tbody tr th {\n",
       "        vertical-align: top;\n",
       "    }\n",
       "\n",
       "    .dataframe thead th {\n",
       "        text-align: right;\n",
       "    }\n",
       "</style>\n",
       "<table border=\"1\" class=\"dataframe\">\n",
       "  <thead>\n",
       "    <tr style=\"text-align: right;\">\n",
       "      <th></th>\n",
       "      <th>movie_id</th>\n",
       "      <th>title</th>\n",
       "      <th>cast</th>\n",
       "      <th>crew</th>\n",
       "    </tr>\n",
       "  </thead>\n",
       "  <tbody>\n",
       "    <tr>\n",
       "      <th>0</th>\n",
       "      <td>19995</td>\n",
       "      <td>Avatar</td>\n",
       "      <td>[{\"cast_id\": 242, \"character\": \"Jake Sully\", \"...</td>\n",
       "      <td>[{\"credit_id\": \"52fe48009251416c750aca23\", \"de...</td>\n",
       "    </tr>\n",
       "    <tr>\n",
       "      <th>1</th>\n",
       "      <td>285</td>\n",
       "      <td>Pirates of the Caribbean: At World's End</td>\n",
       "      <td>[{\"cast_id\": 4, \"character\": \"Captain Jack Spa...</td>\n",
       "      <td>[{\"credit_id\": \"52fe4232c3a36847f800b579\", \"de...</td>\n",
       "    </tr>\n",
       "    <tr>\n",
       "      <th>2</th>\n",
       "      <td>206647</td>\n",
       "      <td>Spectre</td>\n",
       "      <td>[{\"cast_id\": 1, \"character\": \"James Bond\", \"cr...</td>\n",
       "      <td>[{\"credit_id\": \"54805967c3a36829b5002c41\", \"de...</td>\n",
       "    </tr>\n",
       "    <tr>\n",
       "      <th>3</th>\n",
       "      <td>49026</td>\n",
       "      <td>The Dark Knight Rises</td>\n",
       "      <td>[{\"cast_id\": 2, \"character\": \"Bruce Wayne / Ba...</td>\n",
       "      <td>[{\"credit_id\": \"52fe4781c3a36847f81398c3\", \"de...</td>\n",
       "    </tr>\n",
       "    <tr>\n",
       "      <th>4</th>\n",
       "      <td>49529</td>\n",
       "      <td>John Carter</td>\n",
       "      <td>[{\"cast_id\": 5, \"character\": \"John Carter\", \"c...</td>\n",
       "      <td>[{\"credit_id\": \"52fe479ac3a36847f813eaa3\", \"de...</td>\n",
       "    </tr>\n",
       "  </tbody>\n",
       "</table>\n",
       "</div>"
      ],
      "text/plain": [
       "   movie_id                                     title  \\\n",
       "0     19995                                    Avatar   \n",
       "1       285  Pirates of the Caribbean: At World's End   \n",
       "2    206647                                   Spectre   \n",
       "3     49026                     The Dark Knight Rises   \n",
       "4     49529                               John Carter   \n",
       "\n",
       "                                                cast  \\\n",
       "0  [{\"cast_id\": 242, \"character\": \"Jake Sully\", \"...   \n",
       "1  [{\"cast_id\": 4, \"character\": \"Captain Jack Spa...   \n",
       "2  [{\"cast_id\": 1, \"character\": \"James Bond\", \"cr...   \n",
       "3  [{\"cast_id\": 2, \"character\": \"Bruce Wayne / Ba...   \n",
       "4  [{\"cast_id\": 5, \"character\": \"John Carter\", \"c...   \n",
       "\n",
       "                                                crew  \n",
       "0  [{\"credit_id\": \"52fe48009251416c750aca23\", \"de...  \n",
       "1  [{\"credit_id\": \"52fe4232c3a36847f800b579\", \"de...  \n",
       "2  [{\"credit_id\": \"54805967c3a36829b5002c41\", \"de...  \n",
       "3  [{\"credit_id\": \"52fe4781c3a36847f81398c3\", \"de...  \n",
       "4  [{\"credit_id\": \"52fe479ac3a36847f813eaa3\", \"de...  "
      ]
     },
     "execution_count": 6,
     "metadata": {},
     "output_type": "execute_result"
    }
   ],
   "source": [
    "# Import necessary libraries and load datasets\n",
    "import pandas as pd\n",
    "import json\n",
    "import numpy as np\n",
    "from sklearn.feature_extraction.text import TfidfVectorizer\n",
    "credits = pd.read_csv(\"src/datasets/tmdb_5000_credits.csv\")\n",
    "movies = pd.read_csv(\"src/datasets/tmdb_5000_movies.csv\")\n",
    "credits.head()"
   ]
  },
  {
   "cell_type": "markdown",
   "id": "2015238a",
   "metadata": {},
   "source": [
    "## Print the Shapes of the Credits and Movies DataFrames\n",
    "Here, we print the dimensions (number of rows and columns) of the credits and movies datasets. \n",
    "This helps us understand how much data we are working with."
   ]
  },
  {
   "cell_type": "code",
   "execution_count": 7,
   "id": "72abd366-c278-4612-8f26-972254ede4a2",
   "metadata": {},
   "outputs": [
    {
     "name": "stdout",
     "output_type": "stream",
     "text": [
      "Credits: (4803, 4)\n",
      "Movies Dataframe: (4803, 20)\n"
     ]
    }
   ],
   "source": [
    "# Print the shapes of the credits and movies dataframes\n",
    "print(\"Credits:\", credits.shape)\n",
    "print(\"Movies Dataframe:\", movies.shape)"
   ]
  },
  {
   "cell_type": "markdown",
   "id": "3639e17b",
   "metadata": {},
   "source": [
    "## Merge Credits and Movies DataFrames on 'id' and Rename 'movie_id' to 'id'\n",
    "In this cell, we combine the credits and movies datasets into one. \n",
    "We rename the 'movie_id' column in the credits dataset to 'id' so that we can merge them based on this common column. \n",
    "After merging, we display the first few rows of the combined dataset to check the result."
   ]
  },
  {
   "cell_type": "code",
   "execution_count": 8,
   "id": "52a059ed-cf15-407d-a7ce-5744e6629127",
   "metadata": {},
   "outputs": [
    {
     "name": "stdout",
     "output_type": "stream",
     "text": [
      "      budget                                             genres  \\\n",
      "0  237000000  [{\"id\": 28, \"name\": \"Action\"}, {\"id\": 12, \"nam...   \n",
      "1  300000000  [{\"id\": 12, \"name\": \"Adventure\"}, {\"id\": 14, \"...   \n",
      "2  245000000  [{\"id\": 28, \"name\": \"Action\"}, {\"id\": 12, \"nam...   \n",
      "3  250000000  [{\"id\": 28, \"name\": \"Action\"}, {\"id\": 80, \"nam...   \n",
      "4  260000000  [{\"id\": 28, \"name\": \"Action\"}, {\"id\": 12, \"nam...   \n",
      "\n",
      "                                       homepage      id  \\\n",
      "0                   http://www.avatarmovie.com/   19995   \n",
      "1  http://disney.go.com/disneypictures/pirates/     285   \n",
      "2   http://www.sonypictures.com/movies/spectre/  206647   \n",
      "3            http://www.thedarkknightrises.com/   49026   \n",
      "4          http://movies.disney.com/john-carter   49529   \n",
      "\n",
      "                                            keywords original_language  \\\n",
      "0  [{\"id\": 1463, \"name\": \"culture clash\"}, {\"id\":...                en   \n",
      "1  [{\"id\": 270, \"name\": \"ocean\"}, {\"id\": 726, \"na...                en   \n",
      "2  [{\"id\": 470, \"name\": \"spy\"}, {\"id\": 818, \"name...                en   \n",
      "3  [{\"id\": 849, \"name\": \"dc comics\"}, {\"id\": 853,...                en   \n",
      "4  [{\"id\": 818, \"name\": \"based on novel\"}, {\"id\":...                en   \n",
      "\n",
      "                             original_title  \\\n",
      "0                                    Avatar   \n",
      "1  Pirates of the Caribbean: At World's End   \n",
      "2                                   Spectre   \n",
      "3                     The Dark Knight Rises   \n",
      "4                               John Carter   \n",
      "\n",
      "                                            overview  popularity  \\\n",
      "0  In the 22nd century, a paraplegic Marine is di...  150.437577   \n",
      "1  Captain Barbossa, long believed to be dead, ha...  139.082615   \n",
      "2  A cryptic message from Bond’s past sends him o...  107.376788   \n",
      "3  Following the death of District Attorney Harve...  112.312950   \n",
      "4  John Carter is a war-weary, former military ca...   43.926995   \n",
      "\n",
      "                                production_companies  ... runtime  \\\n",
      "0  [{\"name\": \"Ingenious Film Partners\", \"id\": 289...  ...   162.0   \n",
      "1  [{\"name\": \"Walt Disney Pictures\", \"id\": 2}, {\"...  ...   169.0   \n",
      "2  [{\"name\": \"Columbia Pictures\", \"id\": 5}, {\"nam...  ...   148.0   \n",
      "3  [{\"name\": \"Legendary Pictures\", \"id\": 923}, {\"...  ...   165.0   \n",
      "4        [{\"name\": \"Walt Disney Pictures\", \"id\": 2}]  ...   132.0   \n",
      "\n",
      "                                    spoken_languages    status  \\\n",
      "0  [{\"iso_639_1\": \"en\", \"name\": \"English\"}, {\"iso...  Released   \n",
      "1           [{\"iso_639_1\": \"en\", \"name\": \"English\"}]  Released   \n",
      "2  [{\"iso_639_1\": \"fr\", \"name\": \"Fran\\u00e7ais\"},...  Released   \n",
      "3           [{\"iso_639_1\": \"en\", \"name\": \"English\"}]  Released   \n",
      "4           [{\"iso_639_1\": \"en\", \"name\": \"English\"}]  Released   \n",
      "\n",
      "                                          tagline  \\\n",
      "0                     Enter the World of Pandora.   \n",
      "1  At the end of the world, the adventure begins.   \n",
      "2                           A Plan No One Escapes   \n",
      "3                                 The Legend Ends   \n",
      "4            Lost in our world, found in another.   \n",
      "\n",
      "                                    title_x vote_average vote_count  \\\n",
      "0                                    Avatar          7.2      11800   \n",
      "1  Pirates of the Caribbean: At World's End          6.9       4500   \n",
      "2                                   Spectre          6.3       4466   \n",
      "3                     The Dark Knight Rises          7.6       9106   \n",
      "4                               John Carter          6.1       2124   \n",
      "\n",
      "                                    title_y  \\\n",
      "0                                    Avatar   \n",
      "1  Pirates of the Caribbean: At World's End   \n",
      "2                                   Spectre   \n",
      "3                     The Dark Knight Rises   \n",
      "4                               John Carter   \n",
      "\n",
      "                                                cast  \\\n",
      "0  [{\"cast_id\": 242, \"character\": \"Jake Sully\", \"...   \n",
      "1  [{\"cast_id\": 4, \"character\": \"Captain Jack Spa...   \n",
      "2  [{\"cast_id\": 1, \"character\": \"James Bond\", \"cr...   \n",
      "3  [{\"cast_id\": 2, \"character\": \"Bruce Wayne / Ba...   \n",
      "4  [{\"cast_id\": 5, \"character\": \"John Carter\", \"c...   \n",
      "\n",
      "                                                crew  \n",
      "0  [{\"credit_id\": \"52fe48009251416c750aca23\", \"de...  \n",
      "1  [{\"credit_id\": \"52fe4232c3a36847f800b579\", \"de...  \n",
      "2  [{\"credit_id\": \"54805967c3a36829b5002c41\", \"de...  \n",
      "3  [{\"credit_id\": \"52fe4781c3a36847f81398c3\", \"de...  \n",
      "4  [{\"credit_id\": \"52fe479ac3a36847f813eaa3\", \"de...  \n",
      "\n",
      "[5 rows x 23 columns]\n"
     ]
    }
   ],
   "source": [
    "# Merge credits and movies dataframes on 'id' and rename 'movie_id' to 'id'\n",
    "credits_column_renamed = credits.rename(index=str, columns={\"movie_id\": \"id\"})\n",
    "movies_merge = movies.merge(credits_column_renamed, on='id')\n",
    "print(movies_merge.head())"
   ]
  },
  {
   "cell_type": "markdown",
   "id": "1eb5df24",
   "metadata": {},
   "source": [
    "## Clean the Merged Data by Selecting Relevant Columns and Processing JSON Fields\n",
    "Here, we select only the columns we need from the merged dataset. \n",
    "We also process the 'cast', 'crew', and 'genres' columns, which are in JSON format, to convert them into Python lists. \n",
    "Finally, we save the cleaned data to a JSON file and display the first few rows of the cleaned dataset."
   ]
  },
  {
   "cell_type": "code",
   "execution_count": 11,
   "id": "4df2257c-1999-4310-a754-965843b780e5",
   "metadata": {},
   "outputs": [
    {
     "name": "stdout",
     "output_type": "stream",
     "text": [
      "Cleaned data saved to data folder\n",
      "       id                            original_title  \\\n",
      "0   19995                                    Avatar   \n",
      "1     285  Pirates of the Caribbean: At World's End   \n",
      "2  206647                                   Spectre   \n",
      "3   49026                     The Dark Knight Rises   \n",
      "4   49529                               John Carter   \n",
      "\n",
      "                                            overview  \\\n",
      "0  In the 22nd century, a paraplegic Marine is di...   \n",
      "1  Captain Barbossa, long believed to be dead, ha...   \n",
      "2  A cryptic message from Bond’s past sends him o...   \n",
      "3  Following the death of District Attorney Harve...   \n",
      "4  John Carter is a war-weary, former military ca...   \n",
      "\n",
      "                                                cast  \\\n",
      "0  [{'cast_id': 242, 'character': 'Jake Sully', '...   \n",
      "1  [{'cast_id': 4, 'character': 'Captain Jack Spa...   \n",
      "2  [{'cast_id': 1, 'character': 'James Bond', 'cr...   \n",
      "3  [{'cast_id': 2, 'character': 'Bruce Wayne / Ba...   \n",
      "4  [{'cast_id': 5, 'character': 'John Carter', 'c...   \n",
      "\n",
      "                                                crew release_date  \\\n",
      "0  [{'credit_id': '52fe48009251416c750aca23', 'de...   2009-12-10   \n",
      "1  [{'credit_id': '52fe4232c3a36847f800b579', 'de...   2007-05-19   \n",
      "2  [{'credit_id': '54805967c3a36829b5002c41', 'de...   2015-10-26   \n",
      "3  [{'credit_id': '52fe4781c3a36847f81398c3', 'de...   2012-07-16   \n",
      "4  [{'credit_id': '52fe479ac3a36847f813eaa3', 'de...   2012-03-07   \n",
      "\n",
      "                                              genres  vote_average  runtime  \\\n",
      "0  [{'id': 28, 'name': 'Action'}, {'id': 12, 'nam...           7.2    162.0   \n",
      "1  [{'id': 12, 'name': 'Adventure'}, {'id': 14, '...           6.9    169.0   \n",
      "2  [{'id': 28, 'name': 'Action'}, {'id': 12, 'nam...           6.3    148.0   \n",
      "3  [{'id': 28, 'name': 'Action'}, {'id': 80, 'nam...           7.6    165.0   \n",
      "4  [{'id': 28, 'name': 'Action'}, {'id': 12, 'nam...           6.1    132.0   \n",
      "\n",
      "  original_language  movie_id  \n",
      "0                en     19995  \n",
      "1                en       285  \n",
      "2                en    206647  \n",
      "3                en     49026  \n",
      "4                en     49529  \n"
     ]
    }
   ],
   "source": [
    "# Clean the merged data by selecting relevant columns and processing JSON fields\n",
    "columns_to_select = ['id', 'original_title', 'overview', 'cast', 'crew', 'release_date', 'genres', 'vote_average', 'runtime', 'original_language']\n",
    "movies_cleaned = movies_merge[columns_to_select].copy()\n",
    "movies_cleaned['movie_id'] = movies_cleaned['id']\n",
    "movies_cleaned['cast'] = movies_cleaned['cast'].apply(lambda x: json.loads(x) if isinstance(x, str) else [])\n",
    "movies_cleaned['crew'] = movies_cleaned['crew'].apply(lambda x: json.loads(x) if isinstance(x, str) else [])\n",
    "movies_cleaned['genres'] = movies_cleaned['genres'].apply(lambda x: json.loads(x) if isinstance(x, str) else [])\n",
    "movies_cleaned.to_json('src/data/movies_cleaned.json', orient='records')\n",
    "print(\"Cleaned data saved to data folder\")\n",
    "print(movies_cleaned.head())"
   ]
  },
  {
   "cell_type": "markdown",
   "id": "0f05d8e4",
   "metadata": {},
   "source": [
    "## Load Dataset and Prepare TF-IDF Vectorizer\n",
    "In this cell, we load the cleaned movies dataset again. \n",
    "We check if the 'overview' column exists, as it is essential for our analysis. \n",
    "We fill any missing values in the 'overview' column with an empty string. \n",
    "Then, we set up a TF-IDF Vectorizer, which will help us convert the text in the 'overview' column into a numerical format that we can work with."
   ]
  },
  {
   "cell_type": "code",
   "execution_count": 13,
   "id": "c6b5678b-5e44-4fa5-b529-8dd62f01ce5b",
   "metadata": {},
   "outputs": [
    {
     "name": "stdout",
     "output_type": "stream",
     "text": [
      "<Compressed Sparse Row sparse matrix of dtype 'float64'\n",
      "\twith 127220 stored elements and shape (4803, 10417)>\n",
      "  Coords\tValues\n",
      "  (0, 147)\t0.30913114032500133\n",
      "  (0, 1514)\t0.20118856027389753\n",
      "  (0, 5658)\t0.2610479764815685\n",
      "  (0, 2634)\t0.2818968058308857\n",
      "  (0, 5972)\t0.27473323883894724\n",
      "  (0, 6543)\t0.2959108637414297\n",
      "  (0, 9717)\t0.2443539591791674\n",
      "  (0, 5907)\t0.17992707015426693\n",
      "  (0, 9393)\t0.24144219475319856\n",
      "  (0, 3582)\t0.2178825775762986\n",
      "  (0, 6447)\t0.25667782792456906\n",
      "  (0, 7055)\t0.26867652924731417\n",
      "  (0, 431)\t0.21084762228452017\n",
      "  (0, 1670)\t0.27815198887096043\n",
      "  (0, 148)\t0.30913114032500133\n",
      "  (1, 1408)\t0.25331222077109966\n",
      "  (1, 5397)\t0.21777873762971253\n",
      "  (1, 973)\t0.3197826358277298\n",
      "  (1, 2318)\t0.2189240483549797\n",
      "  (1, 1806)\t0.21046232712343155\n",
      "  (1, 5263)\t0.13330162173427934\n",
      "  (1, 4205)\t0.3080300379356447\n",
      "  (1, 2872)\t0.32324825936267076\n",
      "  (1, 2848)\t0.21556897928560056\n",
      "  (1, 9609)\t0.33551759750863897\n",
      "  :\t:\n",
      "  (4802, 5303)\t0.14458839172229582\n",
      "  (4802, 3238)\t0.16238922347130244\n",
      "  (4802, 6989)\t0.12818619387415678\n",
      "  (4802, 2754)\t0.11415766885192152\n",
      "  (4802, 8137)\t0.12006983014875616\n",
      "  (4802, 1252)\t0.1517317799962251\n",
      "  (4802, 3480)\t0.14340155530934393\n",
      "  (4802, 3736)\t0.14859055527694667\n",
      "  (4802, 677)\t0.1348896650905315\n",
      "  (4802, 2360)\t0.15010502652571864\n",
      "  (4802, 671)\t0.15980375315748296\n",
      "  (4802, 2286)\t0.1348896650905315\n",
      "  (4802, 8046)\t0.16238922347130244\n",
      "  (4802, 4882)\t0.14340155530934393\n",
      "  (4802, 6203)\t0.1471738620361153\n",
      "  (4802, 2176)\t0.14227560971626285\n",
      "  (4802, 2767)\t0.3247784469426049\n",
      "  (4802, 7928)\t0.17270633258663715\n",
      "  (4802, 3965)\t0.1553988053389829\n",
      "  (4802, 123)\t0.1553988053389829\n",
      "  (4802, 873)\t0.3552091698129791\n",
      "  (4802, 2839)\t0.17760458490648956\n",
      "  (4802, 157)\t0.16870416903198626\n",
      "  (4802, 158)\t0.17760458490648956\n",
      "  (4802, 159)\t0.17760458490648956\n",
      "(4803, 10417)\n"
     ]
    }
   ],
   "source": [
    "# Load dataset and prepare TF-IDF Vectorizer\n",
    "movies_cleaned_df = pd.read_csv('src/datasets/tmdb_5000_movies.csv')\n",
    "\n",
    "if 'overview' not in movies_cleaned_df.columns:\n",
    "    raise ValueError(\"'overview' column not found in the dataset!\")\n",
    "\n",
    "movies_cleaned_df['overview'] = movies_cleaned_df['overview'].fillna('')\n",
    "tfv = TfidfVectorizer(min_df=3, max_features=None,\n",
    "                      strip_accents='unicode', analyzer='word',\n",
    "                      token_pattern=r'\\w{1,}', ngram_range=(1, 3),\n",
    "                      stop_words='english')\n",
    "\n",
    "tfv_matrix = tfv.fit_transform(movies_cleaned_df['overview'])\n",
    "print(tfv_matrix)\n",
    "print(tfv_matrix.shape)"
   ]
  },
  {
   "cell_type": "markdown",
   "id": "e82409ce",
   "metadata": {},
   "source": [
    "## Compute the Sigmoid Kernel for the TF-IDF Matrix and Save the Similarity Matrix\n",
    "Here, we calculate the similarity between movies based on their overviews using a method called the sigmoid kernel. \n",
    "This creates a similarity matrix that tells us how similar each movie is to every other movie. \n",
    "We then save this similarity matrix to a JSON file for later use."
   ]
  },
  {
   "cell_type": "code",
   "execution_count": 15,
   "id": "2150a52b-5ac5-470a-bd59-bb61edadcc74",
   "metadata": {},
   "outputs": [
    {
     "name": "stdout",
     "output_type": "stream",
     "text": [
      "Similarity matrix shape: (4803, 4803)\n",
      "Similarity matrix saved to data folder\n"
     ]
    }
   ],
   "source": [
    "# Compute the sigmoid kernel for the TF-IDF matrix and save the similarity matrix\n",
    "from sklearn.metrics.pairwise import sigmoid_kernel\n",
    "sig = sigmoid_kernel(tfv_matrix, tfv_matrix)\n",
    "with open('src/data/similarity_matrix.json', 'w') as f:\n",
    "    json.dump(sig.tolist(), f)\n",
    "print(\"Similarity matrix shape:\", sig.shape)\n",
    "print(\"Similarity matrix saved to data folder\")"
   ]
  },
  {
   "cell_type": "markdown",
   "id": "97250492",
   "metadata": {},
   "source": [
    "## Ensure Unique Movie Titles and Create a Mapping of Titles to Indices\n",
    "In this cell, we remove any duplicate movie titles from the cleaned dataset to ensure each title is unique. \n",
    "We create a mapping that links each movie title to its index in the dataset. \n",
    "This mapping will help us quickly find a movie's index when we want to get recommendations. \n",
    "Finally, we save this mapping to a JSON file."
   ]
  },
  {
   "cell_type": "code",
   "execution_count": 16,
   "id": "846963ac-8f02-4a23-ad28-497623c65b06",
   "metadata": {},
   "outputs": [
    {
     "name": "stdout",
     "output_type": "stream",
     "text": [
      "Indices mapping saved to data folder\n",
      "original_title\n",
      "Avatar                                      0\n",
      "Pirates of the Caribbean: At World's End    1\n",
      "Spectre                                     2\n",
      "The Dark Knight Rises                       3\n",
      "John Carter                                 4\n",
      "dtype: int64\n"
     ]
    }
   ],
   "source": [
    "# Ensure unique movie titles and create a mapping of titles to indices\n",
    "movies_cleaned_unique = movies_cleaned.drop_duplicates(subset='original_title')\n",
    "indices = pd.Series(movies_cleaned_unique.index, index=movies_cleaned_unique['original_title']).drop_duplicates()\n",
    "indices.to_json('src/data/indices.json', orient='index')\n",
    "print(\"Indices mapping saved to data folder\")\n",
    "print(indices.head())"
   ]
  },
  {
   "cell_type": "markdown",
   "id": "c8126b23",
   "metadata": {},
   "source": [
    "## Define a Function to Give Movie Recommendations Based on Title\n",
    "Here, we define a function called `give_recomendations` that takes a movie title as input and returns a list of recommended movies. \n",
    "If the title is not found in our mapping, it will print a message. \n",
    "The function calculates the similarity scores for the input movie and returns the top 10 similar movies, excluding the input movie itself."
   ]
  },
  {
   "cell_type": "code",
   "execution_count": 17,
   "id": "f143aec1-7f55-4417-9662-2b5d92d635f2",
   "metadata": {},
   "outputs": [],
   "source": [
    "# Define a function to give movie recommendations based on title\n",
    "def give_recomendations(title, sig=sig):\n",
    "    if title not in indices.index:\n",
    "        print(f\"Title '{title}' not found in indices.\")\n",
    "        return None\n",
    "    idx = indices[title]\n",
    "    sig_scores = list(enumerate(sig[idx]))\n",
    "    sig_scores = sorted(sig_scores, key=lambda x: x[1], reverse=True)\n",
    "    sig_scores = sig_scores[1:11]  # Skip the first one as it is the movie itself\n",
    "    movie_indices = [i[0] for i in sig_scores]\n",
    "    return movies_cleaned.iloc[movie_indices]"
   ]
  },
  {
   "cell_type": "markdown",
   "id": "bb8cfd1b",
   "metadata": {},
   "source": [
    "## Finally Get Recommendations for a Specific Movie and Print Relevant Details\n",
    "In this cell, we use the function we defined earlier to get recommendations for the movie 'Interstellar'. \n",
    "We then print out the original title, overview, cast, and crew of the recommended movies to see the details."
   ]
  },
  {
   "cell_type": "code",
   "execution_count": 18,
   "id": "dea6b478-4385-439c-8f7e-e44796500898",
   "metadata": {},
   "outputs": [
    {
     "name": "stdout",
     "output_type": "stream",
     "text": [
      "                         original_title  \\\n",
      "1709                         キャプテンハーロック   \n",
      "1352                            Gattaca   \n",
      "643                       Space Cowboys   \n",
      "268                       Stuart Little   \n",
      "220                          Prometheus   \n",
      "4353                  The Green Inferno   \n",
      "4176  Battle for the Planet of the Apes   \n",
      "2260                    All Good Things   \n",
      "2648                     Winnie Mandela   \n",
      "1373                The English Patient   \n",
      "\n",
      "                                               overview  \\\n",
      "1709  Space Pirate Captain Harlock and his fearless ...   \n",
      "1352  Science fiction drama about a future society i...   \n",
      "643   Frank Corvin, ‘Hawk’ Hawkins, Jerry O'Neill an...   \n",
      "268   The adventures of a heroic and debonair stalwa...   \n",
      "220   A team of explorers discover a clue to the ori...   \n",
      "4353  A group of student activists travel from New Y...   \n",
      "4176  The fifth and final episode in the Planet of t...   \n",
      "2260  Newly-discovered facts, court records and spec...   \n",
      "2648  A drama that chronicles the life of Winnie Man...   \n",
      "1373  Beginning in the 1930s, \"The English Patient\" ...   \n",
      "\n",
      "                                                   cast  \\\n",
      "1709  [{'cast_id': 1, 'character': 'Captain Harlock ...   \n",
      "1352  [{'cast_id': 7, 'character': 'Vincent Freeman'...   \n",
      "643   [{'cast_id': 11, 'character': 'Frank Corvin', ...   \n",
      "268   [{'cast_id': 10, 'character': 'Stuart Little (...   \n",
      "220   [{'cast_id': 5, 'character': 'Dr. Elizabeth Sh...   \n",
      "4353  [{'cast_id': 2, 'character': 'Justine', 'credi...   \n",
      "4176  [{'cast_id': 11, 'character': 'Caesar', 'credi...   \n",
      "2260  [{'cast_id': 2, 'character': 'Katie Marks', 'c...   \n",
      "2648  [{'cast_id': 3, 'character': 'Colonel de Vries...   \n",
      "1373  [{'cast_id': 1, 'character': 'Count László de ...   \n",
      "\n",
      "                                                   crew  \n",
      "1709  [{'credit_id': '52fe4cac9251416c910fc711', 'de...  \n",
      "1352  [{'credit_id': '52fe4275c3a36847f8020563', 'de...  \n",
      "643   [{'credit_id': '52fe440ec3a36847f807fc47', 'de...  \n",
      "268   [{'credit_id': '52fe43319251416c75007165', 'de...  \n",
      "220   [{'credit_id': '52fe481dc3a368484e0e9db7', 'de...  \n",
      "4353  [{'credit_id': '52fe4d0cc3a36847f824bb55', 'de...  \n",
      "4176  [{'credit_id': '52fe430ec3a36847f8037183', 'de...  \n",
      "2260  [{'credit_id': '52fe46fbc3a36847f811d41b', 'de...  \n",
      "2648  [{'credit_id': '52fe48ebc3a368484e111d7b', 'de...  \n",
      "1373  [{'credit_id': '52fe4240c3a36847f800fba1', 'de...  \n"
     ]
    }
   ],
   "source": [
    "# Get recommendations for a specific movie and print relevant details\n",
    "recommended_movies = give_recomendations('Interstellar')\n",
    "print(recommended_movies[['original_title', 'overview', 'cast', 'crew']])"
   ]
  },
  {
   "cell_type": "markdown",
   "id": "5edd1c06",
   "metadata": {},
   "source": [
    "# Conclusion: How the Movie Recommendation Model Works\n",
    "\n",
    "In this notebook, we have built a movie recommendation system that suggests similar movies based on their overviews. Here's a brief overview of how the model works:\n",
    "\n",
    "1. **Data Preparation**: We start by importing necessary libraries and loading two datasets: one containing movie credits and another with movie details. We then clean and process this data to ensure it's in a usable format.\n",
    "\n",
    "2. **Feature Extraction**: The key feature for our recommendations is the 'overview' of each movie. We use a technique called TF-IDF (Term Frequency-Inverse Document Frequency) to convert the text in the 'overview' column into numerical vectors. This allows us to quantify the content of each movie.\n",
    "\n",
    "3. **Similarity Calculation**: Using the TF-IDF matrix, we calculate the similarity between movies based on their overviews. We employ a method called the sigmoid kernel, which helps us determine how closely related two movies are based on their textual descriptions.\n",
    "\n",
    "4. **Recommendation Generation**: When a user inputs a movie title, our model checks for its index in the dataset. It then retrieves the similarity scores for that movie and sorts them to find the top 10 most similar movies, excluding the input movie itself.\n",
    "\n",
    "5. **Output**: Finally, the model returns a list of recommended movies along with their details, such as the original title, overview, cast, and crew.\n",
    "\n",
    "By following these steps, our recommendation system effectively identifies and suggests movies that are similar to the one the user is interested in, enhancing the movie-watching experience."
   ]
  }
 ],
 "metadata": {
  "kernelspec": {
   "display_name": "Python 3 (ipykernel)",
   "language": "python",
   "name": "python3"
  },
  "language_info": {
   "codemirror_mode": {
    "name": "ipython",
    "version": 3
   },
   "file_extension": ".py",
   "mimetype": "text/x-python",
   "name": "python",
   "nbconvert_exporter": "python",
   "pygments_lexer": "ipython3",
   "version": "3.10.0"
  }
 },
 "nbformat": 4,
 "nbformat_minor": 5
}
